{
 "cells": [
  {
   "cell_type": "code",
   "execution_count": 1,
   "metadata": {},
   "outputs": [
    {
     "data": {
      "application/vnd.jupyter.widget-view+json": {
       "model_id": "611abcca4ab64e1a9d393f2e8c3b02f5",
       "version_major": 2,
       "version_minor": 0
      },
      "text/plain": [
       "VBox()"
      ]
     },
     "metadata": {},
     "output_type": "display_data"
    },
    {
     "name": "stdout",
     "output_type": "stream",
     "text": [
      "Starting Spark application\n"
     ]
    },
    {
     "data": {
      "text/html": [
       "<table>\n",
       "<tr><th>ID</th><th>YARN Application ID</th><th>Kind</th><th>State</th><th>Spark UI</th><th>Driver log</th><th>Current session?</th></tr><tr><td>0</td><td>application_1589977564409_0001</td><td>pyspark</td><td>idle</td><td><a target=\"_blank\" href=\"http://ip-172-31-22-40.ec2.internal:20888/proxy/application_1589977564409_0001/\">Link</a></td><td><a target=\"_blank\" href=\"http://ip-172-31-16-235.ec2.internal:8042/node/containerlogs/container_1589977564409_0001_01_000001/livy\">Link</a></td><td>✔</td></tr></table>"
      ],
      "text/plain": [
       "<IPython.core.display.HTML object>"
      ]
     },
     "metadata": {},
     "output_type": "display_data"
    },
    {
     "data": {
      "application/vnd.jupyter.widget-view+json": {
       "model_id": "",
       "version_major": 2,
       "version_minor": 0
      },
      "text/plain": [
       "FloatProgress(value=0.0, bar_style='info', description='Progress:', layout=Layout(height='25px', width='50%'),…"
      ]
     },
     "metadata": {},
     "output_type": "display_data"
    },
    {
     "name": "stdout",
     "output_type": "stream",
     "text": [
      "SparkSession available as 'spark'.\n"
     ]
    },
    {
     "data": {
      "application/vnd.jupyter.widget-view+json": {
       "model_id": "",
       "version_major": 2,
       "version_minor": 0
      },
      "text/plain": [
       "FloatProgress(value=0.0, bar_style='info', description='Progress:', layout=Layout(height='25px', width='50%'),…"
      ]
     },
     "metadata": {},
     "output_type": "display_data"
    }
   ],
   "source": [
    "import nltk\n",
    "from nltk import sent_tokenize\n",
    "from nltk.tokenize import word_tokenize\n",
    "from nltk.corpus import stopwords\n",
    "\n",
    "def sentence(record):\n",
    "    try:\n",
    "        split_record = record.strip().split('\\t')\n",
    "        sentence_1 = split_record[8]\n",
    "        sentence_2 = split_record[9]\n",
    "        return (sentence_1,sentence_2)\n",
    "    except:\n",
    "        return()\n",
    "\n",
    "def wordMatchNltk(record):\n",
    "    sentence = record[0]+record[1]\n",
    "    tokens = word_tokenize(sentence)\n",
    "    words = [word for word in tokens if word.isalpha()]\n",
    "    return [word.lower() for word in words]\n"
   ]
  },
  {
   "cell_type": "code",
   "execution_count": 2,
   "metadata": {},
   "outputs": [
    {
     "data": {
      "application/vnd.jupyter.widget-view+json": {
       "model_id": "09e6bfa77541428e91d386dffa769d41",
       "version_major": 2,
       "version_minor": 0
      },
      "text/plain": [
       "VBox()"
      ]
     },
     "metadata": {},
     "output_type": "display_data"
    },
    {
     "data": {
      "application/vnd.jupyter.widget-view+json": {
       "model_id": "",
       "version_major": 2,
       "version_minor": 0
      },
      "text/plain": [
       "FloatProgress(value=0.0, bar_style='info', description='Progress:', layout=Layout(height='25px', width='50%'),…"
      ]
     },
     "metadata": {},
     "output_type": "display_data"
    },
    {
     "name": "stdout",
     "output_type": "stream",
     "text": [
      "The number of common words between matched and mismatched sets:\n",
      "8927\n",
      "The number of words unique to the matched sets:\n",
      "11134\n",
      "The number of words unique to the mismatched sets:\n",
      "6466"
     ]
    }
   ],
   "source": [
    "# Read file from storage\n",
    "devMatched = sc.textFile('s3://bgao6342/Assignment/dev_matched.tsv')\n",
    "devMismatched = sc.textFile('s3://bgao6342/Assignment/dev_mismatched.tsv')\n",
    "testMatched = sc.textFile('s3://bgao6342/Assignment/test_matched.tsv')\n",
    "testMismatched = sc.textFile('s3://bgao6342/Assignment/test_mismatched.tsv')\n",
    "\n",
    "#extract sentences and remove headers\n",
    "# for devMatched.tsv\n",
    "devMatched_selected = devMatched.map(sentence)\n",
    "header = devMatched_selected.first()\n",
    "devMatched_noheader = devMatched_selected.filter(lambda x: x != header)\n",
    "\n",
    "# for devMismatched.tsv\n",
    "devMismatched_selected = devMismatched.map(sentence)\n",
    "header = devMismatched_selected.first()\n",
    "devMismatched_noheader = devMismatched_selected.filter(lambda x: x != header)\n",
    "\n",
    "# for testMatched.tsv\n",
    "testMatched_selected = testMatched.map(sentence)\n",
    "header = testMatched_selected.first()\n",
    "testMatched_noheader = testMatched_selected.filter(lambda x: x != header)\n",
    "\n",
    "# for testMismatched.tsv\n",
    "testMismatched_selected = testMismatched.map(sentence)\n",
    "header = testMismatched_selected.first()\n",
    "testMismatched_noheader = testMismatched_selected.filter(lambda x: x != header)\n",
    "\n",
    "# Extract words from sentences \n",
    "word_devMatched = devMatched_noheader.flatMap(wordMatchNltk)\n",
    "word_devMismatched = devMismatched_noheader.flatMap(wordMatchNltk)\n",
    "word_testMatched = testMatched_noheader.flatMap(wordMatchNltk)\n",
    "word_testMismatched = testMismatched_noheader.flatMap(wordMatchNltk)\n",
    "\n",
    "# Union data \n",
    "word_matched = sc.union([word_devMatched, word_testMatched])\n",
    "word_mismatched = sc.union([word_devMismatched, word_testMismatched])\n",
    "\n",
    "#repartition and count the number of distinct of words\n",
    "repartition_matched = word_matched.repartition(8)\n",
    "repartition_mismatched = word_mismatched.repartition(8)\n",
    "distinct_word_matched = repartition_matched.distinct().persist()\n",
    "distinct_word_mismatched = repartition_mismatched.distinct().persist()\n",
    "\n",
    "#count words\n",
    "commonWords = distinct_word_matched.intersection(distinct_word_mismatched)\n",
    "commonWordsNumber = commonWords.count()\n",
    "matchedWordsNumber = distinct_word_matched.count()\n",
    "mismatchedWordsNumber = distinct_word_mismatched.count()\n",
    "print('The number of common words between matched and mismatched sets:')\n",
    "print(commonWordsNumber)\n",
    "print('The number of words unique to the matched sets:')\n",
    "print(matchedWordsNumber-commonWordsNumber)\n",
    "print('The number of words unique to the mismatched sets:')\n",
    "print(mismatchedWordsNumber-commonWordsNumber)"
   ]
  },
  {
   "cell_type": "code",
   "execution_count": null,
   "metadata": {},
   "outputs": [],
   "source": []
  }
 ],
 "metadata": {
  "kernelspec": {
   "display_name": "PySpark",
   "language": "",
   "name": "pysparkkernel"
  },
  "language_info": {
   "codemirror_mode": {
    "name": "python",
    "version": 2
   },
   "mimetype": "text/x-python",
   "name": "pyspark",
   "pygments_lexer": "python2"
  }
 },
 "nbformat": 4,
 "nbformat_minor": 4
}
