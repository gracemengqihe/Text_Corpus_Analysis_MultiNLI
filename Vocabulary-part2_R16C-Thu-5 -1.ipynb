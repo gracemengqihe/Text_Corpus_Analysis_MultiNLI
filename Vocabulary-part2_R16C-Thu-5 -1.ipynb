{
 "cells": [
  {
   "cell_type": "code",
   "execution_count": 1,
   "metadata": {},
   "outputs": [
    {
     "data": {
      "application/vnd.jupyter.widget-view+json": {
       "model_id": "c4a866128e224359806f8461730f86c9",
       "version_major": 2,
       "version_minor": 0
      },
      "text/plain": [
       "VBox()"
      ]
     },
     "metadata": {},
     "output_type": "display_data"
    },
    {
     "name": "stdout",
     "output_type": "stream",
     "text": [
      "Starting Spark application\n"
     ]
    },
    {
     "data": {
      "text/html": [
       "<table>\n",
       "<tr><th>ID</th><th>YARN Application ID</th><th>Kind</th><th>State</th><th>Spark UI</th><th>Driver log</th><th>Current session?</th></tr><tr><td>0</td><td>application_1589981080610_0001</td><td>pyspark</td><td>idle</td><td><a target=\"_blank\" href=\"http://ip-172-31-26-226.ec2.internal:20888/proxy/application_1589981080610_0001/\">Link</a></td><td><a target=\"_blank\" href=\"http://ip-172-31-19-165.ec2.internal:8042/node/containerlogs/container_1589981080610_0001_01_000001/livy\">Link</a></td><td>✔</td></tr></table>"
      ],
      "text/plain": [
       "<IPython.core.display.HTML object>"
      ]
     },
     "metadata": {},
     "output_type": "display_data"
    },
    {
     "data": {
      "application/vnd.jupyter.widget-view+json": {
       "model_id": "",
       "version_major": 2,
       "version_minor": 0
      },
      "text/plain": [
       "FloatProgress(value=0.0, bar_style='info', description='Progress:', layout=Layout(height='25px', width='50%'),…"
      ]
     },
     "metadata": {},
     "output_type": "display_data"
    },
    {
     "name": "stdout",
     "output_type": "stream",
     "text": [
      "SparkSession available as 'spark'.\n"
     ]
    },
    {
     "data": {
      "application/vnd.jupyter.widget-view+json": {
       "model_id": "",
       "version_major": 2,
       "version_minor": 0
      },
      "text/plain": [
       "FloatProgress(value=0.0, bar_style='info', description='Progress:', layout=Layout(height='25px', width='50%'),…"
      ]
     },
     "metadata": {},
     "output_type": "display_data"
    }
   ],
   "source": [
    "import nltk\n",
    "from nltk import sent_tokenize\n",
    "from nltk.tokenize import word_tokenize\n",
    "from nltk.corpus import stopwords\n",
    "\n",
    "# define stop words\n",
    "stop_words = stopwords.words('english')\n",
    "stop_words = sorted(stop_words)\n",
    "\n",
    "# broardcast stop words \n",
    "broardcast_stopwords = sc.broadcast(stop_words)\n",
    "\n",
    "def genreSentence(record):\n",
    "    try:\n",
    "        split_record = record.strip().split('\\t')\n",
    "        genre = split_record[3]\n",
    "        sentence_1 = split_record[8]\n",
    "        sentence_2 = split_record[9]\n",
    "        return (genre,sentence_1,sentence_2)\n",
    "    except:\n",
    "        return()\n",
    "\n",
    "def genreWordMatch(record):\n",
    "    genre = record[0]\n",
    "    sentence = record[1]+record[2]\n",
    "    tokens = word_tokenize(sentence)\n",
    "    words = [word for word in tokens if word.isalpha()]\n",
    "    return [(genre,word.lower()) for word in words]\n",
    "\n",
    "def removeStopWords(record):\n",
    "    genre = record[0]\n",
    "    word_to_check = record[1]\n",
    "    found = False\n",
    "    stopwords_value = broardcast_stopwords.value\n",
    "\n",
    "    for word in stopwords_value:\n",
    "        lb,ub = 0,len(stopwords_value) - 1\n",
    "        \n",
    "        while lb <= ub:\n",
    "            mid = (lb + ub) // 2\n",
    "            if stopwords_value[mid] == word_to_check:\n",
    "                found = True\n",
    "                break\n",
    "            elif stopwords_value[mid] < word_to_check:\n",
    "                lb = mid + 1\n",
    "            else:\n",
    "                ub = mid - 1\n",
    "    if found==False:\n",
    "        return [(genre,word_to_check)]\n",
    "    else:\n",
    "        return ()\n",
    "  "
   ]
  },
  {
   "cell_type": "code",
   "execution_count": 2,
   "metadata": {},
   "outputs": [
    {
     "data": {
      "application/vnd.jupyter.widget-view+json": {
       "model_id": "b5afd221f958408199ae3f3e14af5d73",
       "version_major": 2,
       "version_minor": 0
      },
      "text/plain": [
       "VBox()"
      ]
     },
     "metadata": {},
     "output_type": "display_data"
    },
    {
     "data": {
      "application/vnd.jupyter.widget-view+json": {
       "model_id": "",
       "version_major": 2,
       "version_minor": 0
      },
      "text/plain": [
       "FloatProgress(value=0.0, bar_style='info', description='Progress:', layout=Layout(height='25px', width='50%'),…"
      ]
     },
     "metadata": {},
     "output_type": "display_data"
    }
   ],
   "source": [
    "# Read file from storage\n",
    "train = sc.textFile('s3://bgao6342/Assignment/train.tsv')"
   ]
  },
  {
   "cell_type": "code",
   "execution_count": 3,
   "metadata": {},
   "outputs": [
    {
     "data": {
      "application/vnd.jupyter.widget-view+json": {
       "model_id": "529ddabbb3e147158605dae4bc4e5423",
       "version_major": 2,
       "version_minor": 0
      },
      "text/plain": [
       "VBox()"
      ]
     },
     "metadata": {},
     "output_type": "display_data"
    },
    {
     "data": {
      "application/vnd.jupyter.widget-view+json": {
       "model_id": "",
       "version_major": 2,
       "version_minor": 0
      },
      "text/plain": [
       "FloatProgress(value=0.0, bar_style='info', description='Progress:', layout=Layout(height='25px', width='50%'),…"
      ]
     },
     "metadata": {},
     "output_type": "display_data"
    }
   ],
   "source": [
    "# Select genre, sentence1 and sentence2\n",
    "train_selected = train.map(genreSentence)"
   ]
  },
  {
   "cell_type": "code",
   "execution_count": 4,
   "metadata": {},
   "outputs": [
    {
     "data": {
      "application/vnd.jupyter.widget-view+json": {
       "model_id": "2b6db76d72094a9db629d7a87a4d6171",
       "version_major": 2,
       "version_minor": 0
      },
      "text/plain": [
       "VBox()"
      ]
     },
     "metadata": {},
     "output_type": "display_data"
    },
    {
     "data": {
      "application/vnd.jupyter.widget-view+json": {
       "model_id": "",
       "version_major": 2,
       "version_minor": 0
      },
      "text/plain": [
       "FloatProgress(value=0.0, bar_style='info', description='Progress:', layout=Layout(height='25px', width='50%'),…"
      ]
     },
     "metadata": {},
     "output_type": "display_data"
    }
   ],
   "source": [
    "# Extract and remove the header\n",
    "header = train_selected.first()\n",
    "data_noheader = train_selected.filter(lambda x: x != header) "
   ]
  },
  {
   "cell_type": "code",
   "execution_count": 5,
   "metadata": {},
   "outputs": [
    {
     "data": {
      "application/vnd.jupyter.widget-view+json": {
       "model_id": "2119d87a42bd47668cdca40dbce60438",
       "version_major": 2,
       "version_minor": 0
      },
      "text/plain": [
       "VBox()"
      ]
     },
     "metadata": {},
     "output_type": "display_data"
    },
    {
     "data": {
      "application/vnd.jupyter.widget-view+json": {
       "model_id": "",
       "version_major": 2,
       "version_minor": 0
      },
      "text/plain": [
       "FloatProgress(value=0.0, bar_style='info', description='Progress:', layout=Layout(height='25px', width='50%'),…"
      ]
     },
     "metadata": {},
     "output_type": "display_data"
    }
   ],
   "source": [
    "# Map genre to each word \n",
    "genre_word_pair = data_noheader.flatMap(genreWordMatch).distinct() "
   ]
  },
  {
   "cell_type": "code",
   "execution_count": 6,
   "metadata": {},
   "outputs": [
    {
     "data": {
      "application/vnd.jupyter.widget-view+json": {
       "model_id": "9ac3f13c8f90465aa7dbce47fb0092ff",
       "version_major": 2,
       "version_minor": 0
      },
      "text/plain": [
       "VBox()"
      ]
     },
     "metadata": {},
     "output_type": "display_data"
    },
    {
     "data": {
      "application/vnd.jupyter.widget-view+json": {
       "model_id": "",
       "version_major": 2,
       "version_minor": 0
      },
      "text/plain": [
       "FloatProgress(value=0.0, bar_style='info', description='Progress:', layout=Layout(height='25px', width='50%'),…"
      ]
     },
     "metadata": {},
     "output_type": "display_data"
    }
   ],
   "source": [
    "# Calculate the occurence of each word\n",
    "word_freqency = genre_word_pair.map(lambda x: (x[1],1)).reduceByKey(lambda x,y: x+y).persist() "
   ]
  },
  {
   "cell_type": "code",
   "execution_count": 7,
   "metadata": {},
   "outputs": [
    {
     "data": {
      "application/vnd.jupyter.widget-view+json": {
       "model_id": "f25f031dbe7f41109b009a6fafa27b76",
       "version_major": 2,
       "version_minor": 0
      },
      "text/plain": [
       "VBox()"
      ]
     },
     "metadata": {},
     "output_type": "display_data"
    },
    {
     "data": {
      "application/vnd.jupyter.widget-view+json": {
       "model_id": "",
       "version_major": 2,
       "version_minor": 0
      },
      "text/plain": [
       "FloatProgress(value=0.0, bar_style='info', description='Progress:', layout=Layout(height='25px', width='50%'),…"
      ]
     },
     "metadata": {},
     "output_type": "display_data"
    }
   ],
   "source": [
    "# Count the frequency of each genre\n",
    "genre_pair = word_freqency.map(lambda x: (x[1],1))\n",
    "freq_count = genre_pair.countByKey().items()"
   ]
  },
  {
   "cell_type": "code",
   "execution_count": 8,
   "metadata": {},
   "outputs": [
    {
     "data": {
      "application/vnd.jupyter.widget-view+json": {
       "model_id": "dd4e2a4d52214285a42fcb381bbc1bac",
       "version_major": 2,
       "version_minor": 0
      },
      "text/plain": [
       "VBox()"
      ]
     },
     "metadata": {},
     "output_type": "display_data"
    },
    {
     "data": {
      "application/vnd.jupyter.widget-view+json": {
       "model_id": "",
       "version_major": 2,
       "version_minor": 0
      },
      "text/plain": [
       "FloatProgress(value=0.0, bar_style='info', description='Progress:', layout=Layout(height='25px', width='50%'),…"
      ]
     },
     "metadata": {},
     "output_type": "display_data"
    },
    {
     "name": "stdout",
     "output_type": "stream",
     "text": [
      "[(5, '7.7255%'), (1, '69.5084%'), (4, '5.2362%'), (3, '6.4515%'), (2, '11.0784%')]"
     ]
    }
   ],
   "source": [
    "# Calcualte the percentage of occurrence\n",
    "total_sum = 0\n",
    "result = []\n",
    "for x in freq_count:\n",
    "    total_sum += x[1]\n",
    "for x in freq_count:\n",
    "    temp = x[1]\n",
    "    division = str(round(x[1]/total_sum*100,4))+\"%\"\n",
    "    result.append((x[0],division))\n",
    "    \n",
    "print(result)"
   ]
  },
  {
   "cell_type": "code",
   "execution_count": 9,
   "metadata": {},
   "outputs": [
    {
     "data": {
      "application/vnd.jupyter.widget-view+json": {
       "model_id": "d8bd40413c5e46e1a5fb1544624b79a2",
       "version_major": 2,
       "version_minor": 0
      },
      "text/plain": [
       "VBox()"
      ]
     },
     "metadata": {},
     "output_type": "display_data"
    },
    {
     "data": {
      "application/vnd.jupyter.widget-view+json": {
       "model_id": "",
       "version_major": 2,
       "version_minor": 0
      },
      "text/plain": [
       "FloatProgress(value=0.0, bar_style='info', description='Progress:', layout=Layout(height='25px', width='50%'),…"
      ]
     },
     "metadata": {},
     "output_type": "display_data"
    }
   ],
   "source": [
    "# Remove stop words - by using binary search \n",
    "genre_word_pair_nostop = genre_word_pair.flatMap(removeStopWords) "
   ]
  },
  {
   "cell_type": "code",
   "execution_count": 10,
   "metadata": {},
   "outputs": [
    {
     "data": {
      "application/vnd.jupyter.widget-view+json": {
       "model_id": "78b8fd0e279d4d909a1c9f92ad32b6ad",
       "version_major": 2,
       "version_minor": 0
      },
      "text/plain": [
       "VBox()"
      ]
     },
     "metadata": {},
     "output_type": "display_data"
    },
    {
     "data": {
      "application/vnd.jupyter.widget-view+json": {
       "model_id": "",
       "version_major": 2,
       "version_minor": 0
      },
      "text/plain": [
       "FloatProgress(value=0.0, bar_style='info', description='Progress:', layout=Layout(height='25px', width='50%'),…"
      ]
     },
     "metadata": {},
     "output_type": "display_data"
    }
   ],
   "source": [
    "# Calculate the occurence of each word\n",
    "word_freqency_nostop = genre_word_pair_nostop.map(lambda x: (x[1],1)).reduceByKey(lambda x,y: x+y).persist() "
   ]
  },
  {
   "cell_type": "code",
   "execution_count": 11,
   "metadata": {},
   "outputs": [
    {
     "data": {
      "application/vnd.jupyter.widget-view+json": {
       "model_id": "65c2c02e477d41ff82436ca16cea6dc6",
       "version_major": 2,
       "version_minor": 0
      },
      "text/plain": [
       "VBox()"
      ]
     },
     "metadata": {},
     "output_type": "display_data"
    },
    {
     "data": {
      "application/vnd.jupyter.widget-view+json": {
       "model_id": "",
       "version_major": 2,
       "version_minor": 0
      },
      "text/plain": [
       "FloatProgress(value=0.0, bar_style='info', description='Progress:', layout=Layout(height='25px', width='50%'),…"
      ]
     },
     "metadata": {},
     "output_type": "display_data"
    },
    {
     "name": "stdout",
     "output_type": "stream",
     "text": [
      "[(1, '69.6106%'), (2, '11.0901%'), (3, '6.4593%'), (4, '5.2389%'), (5, '7.601%')]"
     ]
    }
   ],
   "source": [
    "# Count the frequency of each genre\n",
    "genre_pair_nostop = word_freqency_nostop.map(lambda x: (x[1],1))\n",
    "freq_count_nostop = genre_pair_nostop.reduceByKey(lambda x,y:x+y)\n",
    "\n",
    "total_sum_nostop = 0\n",
    "result_nostop = []\n",
    "for x in freq_count_nostop.collect():\n",
    "    total_sum_nostop += x[1]\n",
    "for x in freq_count_nostop.collect():\n",
    "    temp = x[1]\n",
    "    division = str(round(temp/total_sum_nostop*100,4))+\"%\"\n",
    "    result_nostop.append((x[0],division))\n",
    "\n",
    "print(result_nostop) "
   ]
  },
  {
   "cell_type": "code",
   "execution_count": null,
   "metadata": {},
   "outputs": [],
   "source": []
  }
 ],
 "metadata": {
  "kernelspec": {
   "display_name": "PySpark",
   "language": "",
   "name": "pysparkkernel"
  },
  "language_info": {
   "codemirror_mode": {
    "name": "python",
    "version": 2
   },
   "mimetype": "text/x-python",
   "name": "pyspark",
   "pygments_lexer": "python2"
  }
 },
 "nbformat": 4,
 "nbformat_minor": 4
}
